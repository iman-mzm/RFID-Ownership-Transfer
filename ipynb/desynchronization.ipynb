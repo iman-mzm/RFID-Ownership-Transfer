{
 "cells": [
  {
   "cell_type": "code",
   "execution_count": 13,
   "id": "0937a907-5e00-4de9-b33d-ec93c4254b84",
   "metadata": {},
   "outputs": [],
   "source": [
    "import random\n",
    "\n",
    "# Function to perform bitwise XOR\n",
    "def bitwise_xor(binary_str1, binary_str2):\n",
    "    return ''.join(str(int(bit1) ^ int(bit2)) for bit1, bit2 in zip(binary_str1, binary_str2))\n",
    "\n",
    "# Function to perform left rotation\n",
    "def left_rotation(X, Y):\n",
    "    wt_y = Y.count('1')  # Hamming weight of Y\n",
    "    L = len(X)  # Calculate L based on the length of X\n",
    "    wt_y_mod_L = wt_y % L\n",
    "    return X[wt_y_mod_L:] + X[:wt_y_mod_L]\n",
    "\n",
    "# Function to perform Right rotation\n",
    "def right_rotation(X, Y):\n",
    "    wt_y = Y.count('1')  # Hamming weight of Y\n",
    "    L = len(X)  # Calculate L based on the length of X\n",
    "    wt_y_mod_L = wt_y % L\n",
    "    return X[-wt_y_mod_L:] + X[:-wt_y_mod_L]\n",
    "\n",
    "# Function to generate a random binary string of a given length\n",
    "def generate_random_binary_string(length):\n",
    "    return ''.join(str(random.randint(0, 1)) for _ in range(length))\n",
    "\n",
    "# Function to simulate the permutation function\n",
    "def permutation(X, Y):\n",
    "    assert len(X) == len(Y), \"Bit strings X and Y must have equal length\"\n",
    "    m = Y.count('1')  # Hamming weight of Y\n",
    "    km_indices = [i for i in range(len(Y)) if Y[i] == '1']\n",
    "    kn_indices = [i for i in range(len(Y)) if Y[i] == '0']\n",
    "    # Construct the permutation Z \n",
    "    Z = ''.join([X[k] for k in km_indices[::-1]]) + ''.join([X[k] for k in kn_indices[::-1]])\n",
    "    return Z\n",
    "\n",
    "def inverse_permutation(Z, Y):\n",
    "    assert len(Z) == len(Y), \"Bit strings Z and Y must have equal length\"\n",
    "    m = Y.count('1')  # Hamming weight of Y\n",
    "    km_indices = [i for i in range(len(Y)) if Y[i] == '1']\n",
    "    kn_indices = [i for i in range(len(Y)) if Y[i] == '0']\n",
    "    # Split Z into km and kn parts\n",
    "    Z_km = Z[:m][::-1]\n",
    "    Z_kn = Z[m:][::-1]\n",
    "    # Reconstruct X using Z, km_indices, and kn_indices\n",
    "    X = ['0'] * len(Y)\n",
    "    for i in range(m):\n",
    "        X[km_indices[i]] = Z_km[i]\n",
    "    for i in range(len(Y) - m):\n",
    "        X[kn_indices[i]] = Z_kn[i]\n",
    "    return ''.join(X)"
   ]
  },
  {
   "cell_type": "code",
   "execution_count": 14,
   "id": "9c319f69-d91a-4f21-9aa2-6755fe85b12f",
   "metadata": {},
   "outputs": [
    {
     "name": "stdout",
     "output_type": "stream",
     "text": [
      "Initialization Phase:\n",
      "Generated IDo: 10110111011011000010010111010100001011010111000010110110000110001101101110010110010010111011010100001100010101101111000100011001\n",
      "Generated K1: 00011110000001101010110000110110101100110111001010010001110001100000100011001100001110001010111000001100011100111010100101110010\n",
      "Generated K2: 11110010100011001100111101010111010100110100101100011011000101101000000011000000100010111100111101111001100101011010010000100110\n",
      "Generated K3: 11110101111101011001101011001010011111010010011001101010101001110011000010101110100011100111000000110101101001110011001001000100\n",
      "Generated IDSx: 00011111100001000010111110110010000110110001100000010110100000111100110000111110100101110111011010110111011000100001110001100010\n",
      "Generated IDn: 11111100111000011101010011101101011101100110100111000111001010100100000010111110001100011111000100100011011101001101110000010110\n",
      "Generated KR: 00101101101000000001100010101010101100011011000011001010011100101101101000010111100111001110100110110001001101010100100101101010\n",
      "Generated KT: 10100010001000100011011000010000010111010100111010111000001111110010011011000101110111100001001000001001000110011101010010010101\n",
      "Index Data: {'fx(IDS1, ID1)': '10011100001111101110110111110110001100010010100000101100000011110000011000001001010111011001000011001100010100010110111111010011'}\n"
     ]
    }
   ],
   "source": [
    "# Initialization Phase\n",
    "l = 128 # The length of the values\n",
    "# Step 1: Generate a l-bit random value for IDSx\n",
    "IDSx = generate_random_binary_string(l)\n",
    "\n",
    "# Step 2: Generate a l-bit random value for IDn\n",
    "IDn = generate_random_binary_string(l)\n",
    "\n",
    "# Step 3: Generate a l-bit random value for KR (temporary shared secret)\n",
    "KR = generate_random_binary_string(l)\n",
    "\n",
    "# Step 4: Generate a l-bit random value for KT (temporary shared secret)\n",
    "KT = generate_random_binary_string(l)\n",
    "\n",
    "# Step 5: Use the permutation function to create index data\n",
    "index_data = {\"fx(IDS1, ID1)\": permutation(IDSx, IDn)}\n",
    "\n",
    "# Define l-bit binary values for K1, K2, and K3 \n",
    "K1 = generate_random_binary_string(l)\n",
    "K2 = generate_random_binary_string(l)\n",
    "K3 = generate_random_binary_string(l)\n",
    "\n",
    "# Define a l-bit binary value for IDo (Identifier of the old owner)\n",
    "IDo = generate_random_binary_string(l)\n",
    "\n",
    "# Print the generated values\n",
    "print(\"Initialization Phase:\")\n",
    "print(\"Generated IDo:\", IDo)\n",
    "print(\"Generated K1:\", K1)\n",
    "print(\"Generated K2:\", K2)\n",
    "print(\"Generated K3:\", K3)\n",
    "print(\"Generated IDSx:\", IDSx)\n",
    "print(\"Generated IDn:\", IDn)\n",
    "print(\"Generated KR:\", KR)\n",
    "print(\"Generated KT:\", KT)\n",
    "print(\"Index Data:\", index_data)"
   ]
  },
  {
   "cell_type": "code",
   "execution_count": 15,
   "id": "c358963a-97a3-4d50-ba87-c51f5c922f17",
   "metadata": {},
   "outputs": [
    {
     "name": "stdout",
     "output_type": "stream",
     "text": [
      "Message to tag: ('hello', '01000011001111000010010101000010000110000110100001100001011101110001000010100101110011010000011111110100011110011111101100101110')\n"
     ]
    }
   ],
   "source": [
    "# Step 1 & 2 (Based on Figure)\n",
    "# RN\n",
    "\n",
    "# Generate a random l-bit value for r1 using PRNG\n",
    "r1 = generate_random_binary_string(l)\n",
    "\n",
    "# Calculate A = r1 ⊕ KT\n",
    "A = bitwise_xor(r1, KT)\n",
    "\n",
    "# Send \"hello\" and A to the tag\n",
    "message_to_tag = \"hello\"\n",
    "#message_to_tag_binary = ''.join(format(ord(char), '08b') for char in message_to_tag)  # Convert \"hello\" to binary\n",
    "\n",
    "# Concatenate the binary message and A\n",
    "message_to_tag = (message_to_tag, A)\n",
    "\n",
    "# Print the generated values and the message to the tag\n",
    "#print(\"Generated r1:\", r1)\n",
    "#print(\"Generated A:\", A)\n",
    "print(\"Message to tag:\", message_to_tag)"
   ]
  },
  {
   "cell_type": "code",
   "execution_count": 16,
   "id": "a87304ee-a294-4379-b6c1-7b690a866d5a",
   "metadata": {},
   "outputs": [
    {
     "name": "stdout",
     "output_type": "stream",
     "text": [
      "IDSx (to be sent to the new owner): 00011111100001000010111110110010000110110001100000010110100000111100110000111110100101110111011010110111011000100001110001100010\n",
      "Generated B' (to be sent to the new owner): 10110100000011001000101101011101001001111001111001111011101011101100001000101001100011100111111111101101000000111010000110101111\n"
     ]
    }
   ],
   "source": [
    "# Step 3 & 4\n",
    "# Tag\n",
    "\n",
    "# Extract r'1 from A by performing a bitwise XOR with KT\n",
    "r1_prime = bitwise_xor(A, KT)\n",
    "#print(\"r1_prime:\", r1_prime)\n",
    "\n",
    "# Calculate B' using the permutation function with inputs (r'1 ⊕ IDSx, KT)\n",
    "r1_prime_xor_IDSx = bitwise_xor(r1_prime, IDSx)\n",
    "B_prime = permutation(r1_prime_xor_IDSx, KT)\n",
    "\n",
    "# Send IDSx and B' to the new owner (RN)\n",
    "print(\"IDSx (to be sent to the new owner):\", IDSx)\n",
    "print(\"Generated B' (to be sent to the new owner):\", B_prime)"
   ]
  },
  {
   "cell_type": "code",
   "execution_count": 17,
   "id": "f2fed263-e7f8-47dd-8907-017e914cf14d",
   "metadata": {},
   "outputs": [
    {
     "name": "stdout",
     "output_type": "stream",
     "text": [
      "Generated IDSx (to be sent to the old owner): 00011111100001000010111110110010000110110001100000010110100000111100110000111110100101110111011010110111011000100001110001100010\n",
      "Generated C (to be sent to the old owner): 00111110110001101110111010011000100010000101110101111011111000110001110001010011110011000110000011000111010011111100111101001100\n",
      "Generated D (to be sent to the old owner): 01010000001111000100000001010000111010111010011110101100100100000000000101111111001000100111110001110110001000000001011000011011\n",
      "Generated fx(IDSx, IDn) (to be sent to the old owner): 10011100001111101110110111110110001100010010100000101100000011110000011000001001010111011001000011001100010100010110111111010011\n"
     ]
    }
   ],
   "source": [
    "# Step 5 & 6\n",
    "# RN\n",
    "\n",
    "# Calculate B using the permutation function with inputs (r1 ⊕ IDSx, KT)\n",
    "r1_xor_IDSx = bitwise_xor(r1, IDSx)\n",
    "B = permutation(r1_xor_IDSx, KT)\n",
    "\n",
    "# Check if B equals B'\n",
    "if B == B_prime:\n",
    "    # Case 1: B equals B'\n",
    "    # Generate a new random number r2 using PRNG\n",
    "    r2 = generate_random_binary_string(l)\n",
    "    #print(\"r2:\", r2)\n",
    "    \n",
    "    # Calculate C = fx(r2 ⊕ IDSx, KR)\n",
    "    r2_xor_IDSx = bitwise_xor(r2, IDSx)\n",
    "    C = permutation(r2_xor_IDSx, KR)\n",
    "\n",
    "    # Calculate D = Rot(r2, fx(IDn, KR))\n",
    "    D = left_rotation(r2, permutation(IDn, KR))\n",
    "\n",
    "    # Calculate fx(IDSx, IDn)\n",
    "    fx_IDSx_IDn = permutation(IDSx, IDn)\n",
    "\n",
    "    # Send IDSx, C, D, and fx(IDSx, IDn) to the old owner (RC)\n",
    "    print(\"Generated IDSx (to be sent to the old owner):\", IDSx)\n",
    "    print(\"Generated C (to be sent to the old owner):\", C)\n",
    "    print(\"Generated D (to be sent to the old owner):\", D)\n",
    "    print(\"Generated fx(IDSx, IDn) (to be sent to the old owner):\", fx_IDSx_IDn)\n",
    "\n",
    "else:\n",
    "    # Case 2: B is not equal to B', terminate the protocol\n",
    "    print(\"B is not equal to B'. Protocol terminated.\")\n"
   ]
  },
  {
   "cell_type": "code",
   "execution_count": 18,
   "id": "d90f0d43-a6f1-4e45-8d5a-7e6fc8215c11",
   "metadata": {},
   "outputs": [
    {
     "name": "stdout",
     "output_type": "stream",
     "text": [
      "Generated E (to be sent to the new owner): 00100011100110001101110011111000011010011100011100101101011000001011001000101011101110111111101111010010110100111001111011000110\n",
      "Generated F (to be sent to the new owner): 10110000000100000001010011100011101011000100000110111100111110000010110110001111111111001110010100111111011101001100100010110001\n",
      "Generated G (to be sent to the new owner): 00101001011011000010100110000101010000101100001100001001010000010101011000101110110110110100000010000110110100011011101010110111\n",
      "Generated H (to be sent to the new owner): 10001101100000110111000000101101111110100110000110010100101100110001000000111011110010101010110011101001011100110110101110001101\n"
     ]
    }
   ],
   "source": [
    "# Step 7 & 8\n",
    "# RC\n",
    "\n",
    "# Search for the corresponding index content in the index data table\n",
    "\n",
    "if fx_IDSx_IDn in index_data.values():\n",
    "    # Case 1: The result matches, ownership transfer request is legal\n",
    "\n",
    "    # Extract r2 from C using fx, IDSx, and KR\n",
    "    r2_xor_IDSx = inverse_permutation(C, KR)\n",
    "    r2_prime = bitwise_xor(r2_xor_IDSx, IDSx)\n",
    "    #print(\"r2_extracted:\", r2_prime)\n",
    "    \n",
    "    # Recalculate D' = Rot(r'2, fx(IDn, KR))\n",
    "    D_prime = left_rotation(r2_prime, permutation(IDn, KR))\n",
    "\n",
    "    # Check if D' equals D\n",
    "    if D_prime == D:\n",
    "        # Calculate random number r3\n",
    "        r3 = generate_random_binary_string(l)\n",
    "        # Calculate E = fx(r3, r2) ⊕ KR\n",
    "        E = bitwise_xor(permutation(bitwise_xor(r3, r2_prime), KR), KR)\n",
    "\n",
    "        # Calculate F = Rot(r2 ⊕ KR, fx(IDo, r3))\n",
    "        F = left_rotation(bitwise_xor(r2_prime, KR), permutation(IDo, r3))\n",
    "\n",
    "        # Calculate G = fx(K1 ⊕ K2, K2 ⊕ K3)\n",
    "        G = permutation(bitwise_xor(K1, K2), bitwise_xor(K2, K3))\n",
    "\n",
    "        # Calculate H = Rot(K2 ⊕ K3, IDn ⊕ KR)\n",
    "        H = left_rotation(bitwise_xor(K2, K3), bitwise_xor(IDn, KR))\n",
    "\n",
    "        # Send E, F, G, and H to the new owner (RN)\n",
    "        print(\"Generated E (to be sent to the new owner):\", E)\n",
    "        print(\"Generated F (to be sent to the new owner):\", F)\n",
    "        print(\"Generated G (to be sent to the new owner):\", G)\n",
    "        print(\"Generated H (to be sent to the new owner):\", H)\n",
    "    else:\n",
    "        # D' is not equal to D, terminate the protocol\n",
    "        print(\"D' is not equal to D. Protocol terminated.\")\n",
    "else:\n",
    "    # Case 2: The result does not match, terminate the protocol\n",
    "    print(\"Result does not match. Ownership transfer request is not legal. Protocol terminated.\")\n"
   ]
  },
  {
   "cell_type": "code",
   "execution_count": 19,
   "id": "79b2b8ab-bdb7-4e12-933b-2c0d2120a283",
   "metadata": {},
   "outputs": [
    {
     "name": "stdout",
     "output_type": "stream",
     "text": [
      "Generated G ⊕ I (to be sent to the tag): 01110110111000001100011111111001111011110110111010111001110100011111011111000101001000111110101000100111101001110011010000010010\n",
      "Generated J (to be sent to the tag): 00101110101011111011101010010110100101101000011010001010010000100000011100000100110001101010001010111011000000000010011000100011\n"
     ]
    }
   ],
   "source": [
    "# Step 9 & 10\n",
    "# RN\n",
    "\n",
    "# Extract r'3 from E\n",
    "E_xor_KR = bitwise_xor(E, KR)\n",
    "r3_prime = inverse_permutation(E_xor_KR, r2)\n",
    "\n",
    "# Calculate F' = Rot(r2 ⊕ KR, fx(IDo, r'3))\n",
    "F_prime = left_rotation(bitwise_xor(r2, KR), permutation(IDo, r3_prime))\n",
    "\n",
    "# Check if F' equals F\n",
    "if F_prime == F:\n",
    "    # Case 1: F is successfully verified\n",
    "    #Extract K2 ⊕ K3 from H\n",
    "    K2_xor_K3 = right_rotation(H, bitwise_xor(IDn, KR))\n",
    "    \n",
    "    # Generate a random number r4 using PRNG\n",
    "    r4 = generate_random_binary_string(l)\n",
    "\n",
    "    # Calculate I = fx(r4 ⊕ KT, K2 ⊕ K3)\n",
    "    I = permutation(bitwise_xor(r4, KT), K2_xor_K3)\n",
    "\n",
    "    # Calculate J = Rot(fx(r4, KT), r4 ⊕ IDSx)\n",
    "    J = left_rotation(permutation(r4, KT), bitwise_xor(r4, IDSx))\n",
    "\n",
    "    # Calculate G ⊕ I\n",
    "    G_xor_I = bitwise_xor(G, I)\n",
    "    \n",
    "    # Send G ⊕ I and J to the tag\n",
    "    print(\"Generated G ⊕ I (to be sent to the tag):\", G_xor_I)\n",
    "    print(\"Generated J (to be sent to the tag):\", J)\n",
    "else:\n",
    "    # Case 2: F is not successfully verified, abort the protocol\n",
    "    print(\"F is not successfully verified. Protocol aborted.\")\n"
   ]
  },
  {
   "cell_type": "code",
   "execution_count": 20,
   "id": "6e26d7ee-17b1-4837-affa-5aebc70088bb",
   "metadata": {},
   "outputs": [
    {
     "name": "stdout",
     "output_type": "stream",
     "text": [
      "Tag deems the old owner authorized to transfer ownership\n",
      "L (to be sent to the new owner): 11001010110101100101011111011111010001110010000110010110110110001110111100100001000100010010011110110110001101111100010100001101\n"
     ]
    }
   ],
   "source": [
    "# Step 11 & 12\n",
    "# Tag\n",
    "\n",
    "#Extract r'4 from G ⊕ I\n",
    "K1_xor_K2_xor_r4_xor_KT = inverse_permutation(G_xor_I, bitwise_xor(K2, K3))\n",
    "K1_xor_K2 = bitwise_xor(K1, K2)\n",
    "K1_xor_K2_xor_KT = bitwise_xor(K1_xor_K2, KT)\n",
    "r4_prime = bitwise_xor(K1_xor_K2_xor_r4_xor_KT, K1_xor_K2_xor_KT)\n",
    "\n",
    "# Calculate J' = Rot(fx(r4, KT), r4 ⊕ IDSx)\n",
    "r4_xor_IDSx = bitwise_xor(r4_prime, IDSx)\n",
    "fx_r4_KT = permutation(r4_prime, KT)\n",
    "J_prime = left_rotation(fx_r4_KT, r4_xor_IDSx)\n",
    "\n",
    "# Check if J' == J\n",
    "if J_prime == J:\n",
    "    # Tag deems the old owner authorized to transfer ownership\n",
    "    print(\"Tag deems the old owner authorized to transfer ownership\")\n",
    "    # Calculate L = fx(r4 ⊕ r1, KT) ⊕ r4\n",
    "    r4_xor_r1 = bitwise_xor(r4, r1)\n",
    "    L = bitwise_xor(permutation(r4_xor_r1, KT), r4)\n",
    "\n",
    "    # Send L to the new owner\n",
    "    print(\"L (to be sent to the new owner):\", L)\n",
    "else:\n",
    "    # Tag does not authorize ownership transfer\n",
    "    print(\"Ownership transfer not authorized.\")"
   ]
  },
  {
   "cell_type": "code",
   "execution_count": 21,
   "id": "3100215d-7af9-4e1a-a04b-6b772fe7ee79",
   "metadata": {},
   "outputs": [
    {
     "name": "stdout",
     "output_type": "stream",
     "text": [
      "M (blocked by attacker)\n",
      "N (blocked by attacker)\n",
      "IDSx_new: 11011110001100001111000010001110000011101101000110001100001110110100111001110000100000011000010011111000101001011110110011000011\n",
      "K1_new: 01010000001101010111001001111011001100110101100110000001000100001011000001100100100010111101011100000010100100001010100110110101\n",
      "K2_new: 10010100010010011100010001101100111111010110110100101000000001111100011001111011100001110100011100010011101000100110101010111110\n",
      "K3_new: 00010111111011100110011101100101010101101100101011010010110101011010100111111101100111000101011010000101111101100110010010010000\n"
     ]
    }
   ],
   "source": [
    "# (attacker blocks M, N)\n",
    "# Step 13 & 14\n",
    "# RN\n",
    "\n",
    "# Calculate L'\n",
    "r4_xor_r1 = bitwise_xor(r4, r1)\n",
    "L_prime = bitwise_xor(permutation(r4_xor_r1, KT), r4)\n",
    "\n",
    "# Verify L and handle the cases\n",
    "if L == L_prime:\n",
    "    # Generate a random value for r5\n",
    "    r5 = generate_random_binary_string(l)\n",
    "    # Calculate M = fx(r4, KT) ⊕ r5\n",
    "    ##fx_r4_KT = permutation(r4, KT)\n",
    "    ##M = bitwise_xor(fx_r4_KT, r5)\n",
    "    # Calculate N = Rot(r5, fx(r4, KT ⊕ IDSx))\n",
    "    ##KT_xor_IDSx = bitwise_xor(KT, IDSx)\n",
    "    ##fx_r4_KT_IDSx = permutation(r4, KT_xor_IDSx)\n",
    "    ##N = left_rotation(r5, fx_r4_KT_IDSx)\n",
    "\n",
    "    # Update pseudonym and shared keys\n",
    "    IDSx_new = permutation(bitwise_xor(IDSx, r4), r5)\n",
    "    #K1_xor_K2 = inverse_permutation(G, K2_xor_K3)\n",
    "    K1_new = bitwise_xor(permutation(inverse_permutation(G, K2_xor_K3), r4), r5)\n",
    "    K2_new = permutation(K2_xor_K3, r5)\n",
    "    K3_new = permutation(bitwise_xor(KT, r4), r5)\n",
    " \n",
    "    # Case 1: Send M, N to the tag. Update IDSx_new, K1_new, K2_new, K3_new, KT_new\n",
    "    print(\"M (blocked by attacker)\")\n",
    "    print(\"N (blocked by attacker)\")\n",
    "    print(\"IDSx_new:\", IDSx_new)\n",
    "    print(\"K1_new:\", K1_new)\n",
    "    print(\"K2_new:\", K2_new)\n",
    "    print(\"K3_new:\", K3_new)\n",
    "    \n",
    "else:\n",
    "    # Case 2: abort the protocol\n",
    "    print(\"Verification failed. Abort the protocol.\")"
   ]
  },
  {
   "cell_type": "code",
   "execution_count": 22,
   "id": "d5ad6b2f-3d31-44ac-a5bb-1e1990650ba5",
   "metadata": {},
   "outputs": [
    {
     "name": "stdout",
     "output_type": "stream",
     "text": [
      "Verification failed. Do not update pseudonym and shared secret.\n"
     ]
    }
   ],
   "source": [
    "# Do not update pseudonym and shared keys\n",
    "# The tag and old owner do not receive M and N. So, their parameters remain the same\n",
    "# Step 15\n",
    "# Tag\n",
    "\n",
    "# Calculate r'5 from M\n",
    "M = \"\".join('0' for i in range(len(KT)))\n",
    "r5_prime = bitwise_xor(M, permutation(r4, KT))\n",
    "\n",
    "# Calculate the local value of N\n",
    "N_prime = left_rotation(r5_prime, permutation(r4, bitwise_xor(KT, IDSx)))\n",
    "\n",
    "# Verify if the calculated N matches the received N\n",
    "N = \"\".join('0' for i in range(len(KT)))\n",
    "if N_prime == N:\n",
    "    # Verification successful, update the pseudonym and shared secret\n",
    "    IDSx_new = permutation(bitwise_xor(IDSx, r4), r5_prime)\n",
    "    K1_new = bitwise_xor(permutation(bitwise_xor(K1, K2), r4), r5_prime)\n",
    "    K2_new = permutation(bitwise_xor(K2, K3), r5_prime)\n",
    "    K3_new = permutation(bitwise_xor(KT, r4), r5_prime)\n",
    "\n",
    "    # Print the updated pseudonym and shared secret\n",
    "    print(\"IDSx_new:\", IDSx_new)\n",
    "    print(\"K1_new:\", K1_new)\n",
    "    print(\"K2_new:\", K2_new)\n",
    "    print(\"K3_new:\", K3_new)\n",
    "\n",
    "else:\n",
    "    # Verification failed\n",
    "    print(\"Verification failed. Do not update pseudonym and shared secret.\")"
   ]
  },
  {
   "cell_type": "code",
   "execution_count": 23,
   "id": "692d37b1-7ceb-49f6-963d-7d65c4e1a996",
   "metadata": {},
   "outputs": [
    {
     "name": "stdout",
     "output_type": "stream",
     "text": [
      "Received IDSx: 00011111100001000010111110110010000110110001100000010110100000111100110000111110100101110111011010110111011000100001110001100010\n",
      "Received K1: 00011110000001101010110000110110101100110111001010010001110001100000100011001100001110001010111000001100011100111010100101110010\n",
      "Received K2: 11110010100011001100111101010111010100110100101100011011000101101000000011000000100010111100111101111001100101011010010000100110\n",
      "Received K3: 11110101111101011001101011001010011111010010011001101010101001110011000010101110100011100111000000110101101001110011001001000100\n"
     ]
    }
   ],
   "source": [
    "#Old Owner\n",
    "# Do not update pseudonym and shared keys\n",
    "IDSx = IDSx\n",
    "K1 = K1\n",
    "K2 = K2\n",
    "K3 = K3\n",
    "    \n",
    "print(\"Received IDSx:\", IDSx)\n",
    "print(\"Received K1:\", K1)\n",
    "print(\"Received K2:\", K2)\n",
    "print(\"Received K3:\", K3)\n"
   ]
  },
  {
   "cell_type": "code",
   "execution_count": null,
   "id": "90ab3419-ba34-4d6a-8d36-9c5429c9ecb1",
   "metadata": {},
   "outputs": [],
   "source": []
  }
 ],
 "metadata": {
  "kernelspec": {
   "display_name": "Python 3 (ipykernel)",
   "language": "python",
   "name": "python3"
  },
  "language_info": {
   "codemirror_mode": {
    "name": "ipython",
    "version": 3
   },
   "file_extension": ".py",
   "mimetype": "text/x-python",
   "name": "python",
   "nbconvert_exporter": "python",
   "pygments_lexer": "ipython3",
   "version": "3.10.11"
  }
 },
 "nbformat": 4,
 "nbformat_minor": 5
}
