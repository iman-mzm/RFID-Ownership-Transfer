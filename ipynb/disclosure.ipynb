{
 "cells": [
  {
   "cell_type": "code",
   "execution_count": 11,
   "id": "d0e9cd81-65ff-4d83-96bf-bc59455461cc",
   "metadata": {},
   "outputs": [],
   "source": [
    "import random\n",
    "\n",
    "# Function to perform bitwise XOR\n",
    "def bitwise_xor(binary_str1, binary_str2):\n",
    "    assert len(binary_str1) == len(binary_str2)\n",
    "    return ''.join(str(int(bit1) ^ int(bit2)) for bit1, bit2 in zip(binary_str1, binary_str2))\n",
    "\n",
    "# Function to generate a random binary string of a given length\n",
    "def generate_random_binary_string(length):\n",
    "    return ''.join(str(random.randint(0, 1)) for _ in range(length))\n",
    "\n",
    "# Function to simulate the permutation function\n",
    "def permutation(X, Y):\n",
    "    assert len(X) == len(Y), \"Bit strings X and Y must have equal length\"\n",
    "\n",
    "    m = Y.count('1')  # Hamming weight of Y\n",
    "    km_indices = [i for i in range(len(Y)) if Y[i] == '1']\n",
    "    kn_indices = [i for i in range(len(Y)) if Y[i] == '0']\n",
    "    n = len(X)\n",
    "\n",
    "    # Construct the permutation Z based on the described pattern\n",
    "    Z = ''.join([X[k] for k in km_indices[::-1]]) + ''.join([X[k] for k in kn_indices[::-1]])\n",
    "\n",
    "    return Z"
   ]
  },
  {
   "cell_type": "code",
   "execution_count": 12,
   "id": "51c57af2-65da-431f-b307-e6ceaf42f3df",
   "metadata": {},
   "outputs": [
    {
     "name": "stdout",
     "output_type": "stream",
     "text": [
      "Initialization Phase:\n",
      "Generated IDo: 10101001101011101110101100001011010111111100000000101011000000100111110100101100100100100101001110000111011110000010010000101001\n",
      "Generated K1: 00011000111100010101110110010001111001110001001010010000011100110111111101001100101000010011101001110011110100101100001000010011\n",
      "Generated K2: 01000110011110001010000110111110101101011110011111100100001111101101011100010110110011001001010011001111101001001000011001001011\n",
      "Generated K3: 10001111110011111101011001111011101101001110010100111011111011000110100111011100101011111110110111010110010110001100110100000001\n",
      "Generated IDSx: 10010010101111111001101001010011110011010010110001000110001001110110011110000001010010110100111000110101100101110000100110111101\n",
      "Generated IDn: 11100110110110110010100000010101101000011011000011000011000001011101011110111010100111100110101010111100111100111110011110001011\n",
      "Generated KR: 00110000111001010101001000101011001100111111011011000010100000011100101001100110011111110111001011010010111001100011010001111000\n",
      "Generated KT: 11111111110110000111000011000011000001010000110100000000011111010110111111010101111110110011101010101011001100101011001111011101\n",
      "Index Data: {'fx(IDS1, ID1)': '10111000001110011011011011010000001111010110110010101101101111011000111101010100010010110001100100100000110011011001001010111001'}\n"
     ]
    }
   ],
   "source": [
    "# Initialization Phase\n",
    "l = 128 # The length of the values\n",
    "# Step 1: Generate a l-bit random value for IDSx\n",
    "IDSx = generate_random_binary_string(l)\n",
    "\n",
    "# Step 2: Generate a l-bit random value for IDn\n",
    "IDn = generate_random_binary_string(l)\n",
    "\n",
    "# Step 3: Generate a l-bit random value for KR (temporary shared secret)\n",
    "KR = generate_random_binary_string(l)\n",
    "\n",
    "# Step 4: Generate a l-bit random value for KT (temporary shared secret)\n",
    "KT = generate_random_binary_string(l)\n",
    "\n",
    "# Step 5: Use the permutation function to create index data\n",
    "index_data = {\"fx(IDS1, ID1)\": permutation(IDSx, IDn)}\n",
    "\n",
    "# Define l-bit binary values for K1, K2, and K3 \n",
    "K1 = generate_random_binary_string(l)\n",
    "K2 = generate_random_binary_string(l)\n",
    "K3 = generate_random_binary_string(l)\n",
    "\n",
    "# Define a l-bit binary value for IDo (Identifier of the old owner)\n",
    "IDo = generate_random_binary_string(l)\n",
    "\n",
    "# Print the generated values\n",
    "print(\"Initialization Phase:\")\n",
    "print(\"Generated IDo:\", IDo)\n",
    "print(\"Generated K1:\", K1)\n",
    "print(\"Generated K2:\", K2)\n",
    "print(\"Generated K3:\", K3)\n",
    "print(\"Generated IDSx:\", IDSx)\n",
    "print(\"Generated IDn:\", IDn)\n",
    "print(\"Generated KR:\", KR)\n",
    "print(\"Generated KT:\", KT)\n",
    "print(\"Index Data:\", index_data)"
   ]
  },
  {
   "cell_type": "code",
   "execution_count": 13,
   "id": "5693b0ab-6c92-4186-bf04-0eadeee696bf",
   "metadata": {},
   "outputs": [
    {
     "name": "stdout",
     "output_type": "stream",
     "text": [
      "IDSx: 10010010101111111001101001010011110011010010110001000110001001110110011110000001010010110100111000110101100101110000100110111101\n",
      "KT: 11111111110110000111000011000011000001010000110100000000011111010110111111010101111110110011101010101011001100101011001111011101\n",
      "KT_R (Recovered): 11111111110110000111000011000011000001010000110100000000011111010110111111010101111110110011101010101011001100101011001111011101\n",
      "KT == KT_R: True\n"
     ]
    }
   ],
   "source": [
    "#%%timeit\n",
    "# Disclosure attack\n",
    "# The goal is to retrieve the agreed session key between the new owner and the tag\n",
    "\n",
    "# Tag initialization (unknown to the attacker)\n",
    "print(\"IDSx:\", IDSx)\n",
    "print(\"KT:\", KT)\n",
    "\n",
    "# Attack:\n",
    "# Attacker (Generate a random value to start the attack)\n",
    "A1 = generate_random_binary_string(l)  # Send \"hello\" and A to the tag\n",
    "\n",
    "#Tag (calculations)\n",
    "r1_prime = bitwise_xor(A1, KT)\n",
    "r1_prime_xor_IDSx = bitwise_xor(r1_prime, IDSx)\n",
    "B_prime = permutation(r1_prime_xor_IDSx, KT)  # Send IDSx and B' to the attacker\n",
    "\n",
    "#print(\"length:\", l)\n",
    "KT_R = [1] * l  # The initial value of KT for recovering\n",
    "\n",
    "# Main loop for the attack\n",
    "for i in range(l):\n",
    "    \n",
    "  # Attacker  \n",
    "  e = [0 for b in range(l)]  \n",
    "  e[i] = 1  # Standard basis\n",
    "  e = \"\".join(str(element) for element in e) \n",
    "  A = bitwise_xor(A1, e)  # Sends A and \"hello\" to the Tag\n",
    "\n",
    "  # Tag  \n",
    "  r = bitwise_xor(A, KT)\n",
    "  r_xor_IDSx = bitwise_xor(r, IDSx)\n",
    "  B = permutation(r_xor_IDSx, KT)   # Sends IDSx and B' to the attacker\n",
    "\n",
    "  # Attacker  \n",
    "  delta = bitwise_xor(B_prime, B)   \n",
    "  #print(\"delta:\", delta)  \n",
    "  m = KT_R[:i].count(0) \n",
    "  if delta[(l-1)-m] == '1':\n",
    "    KT_R[i] = 0\n",
    "  else:\n",
    "    KT_R[i] = 1 \n",
    "\n",
    "KT_R = \"\".join(str(bit) for bit in KT_R)\n",
    "print(\"KT_R (Recovered):\", KT_R)\n",
    "print(\"KT == KT_R:\", KT == KT_R)"
   ]
  },
  {
   "cell_type": "code",
   "execution_count": null,
   "id": "7b6a9dfb-8269-49b1-a783-aa3680e2e9fa",
   "metadata": {},
   "outputs": [],
   "source": []
  }
 ],
 "metadata": {
  "kernelspec": {
   "display_name": "Python 3 (ipykernel)",
   "language": "python",
   "name": "python3"
  },
  "language_info": {
   "codemirror_mode": {
    "name": "ipython",
    "version": 3
   },
   "file_extension": ".py",
   "mimetype": "text/x-python",
   "name": "python",
   "nbconvert_exporter": "python",
   "pygments_lexer": "ipython3",
   "version": "3.10.11"
  }
 },
 "nbformat": 4,
 "nbformat_minor": 5
}
